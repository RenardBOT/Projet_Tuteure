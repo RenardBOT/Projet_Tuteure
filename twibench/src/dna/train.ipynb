{
 "cells": [
  {
   "cell_type": "code",
   "execution_count": 1,
   "metadata": {},
   "outputs": [],
   "source": [
    "import os\n",
    "import sys\n",
    "import argparse\n",
    "from pathlib import Path\n",
    "\n",
    "import numpy as np\n",
    "import pandas as pd\n",
    "\n",
    "from sklearn.linear_model import LogisticRegression,SGDClassifier\n",
    "from sklearn.model_selection import train_test_split, GridSearchCV\n",
    "from sklearn.metrics import accuracy_score, f1_score, recall_score, precision_score, roc_auc_score\n",
    "from sklearn.preprocessing import StandardScaler\n",
    "\n",
    "from tqdm import tqdm\n",
    "\n",
    "import compute_lcs"
   ]
  },
  {
   "cell_type": "code",
   "execution_count": 2,
   "metadata": {},
   "outputs": [],
   "source": [
    "# load a dna file\n",
    "path_lcs_mixed = '../../formatted_datasets/lcs/mixed1.csv'\n",
    "path_dna_mixed = '../../formatted_datasets/dna/mixed1.csv'\n",
    "\n",
    "\n",
    "# load in dataframes\n",
    "lcs_mixed = pd.read_csv(path_lcs_mixed)\n",
    "dna_mixed = pd.read_csv(path_dna_mixed)"
   ]
  },
  {
   "cell_type": "code",
   "execution_count": 4,
   "metadata": {},
   "outputs": [
    {
     "name": "stdout",
     "output_type": "stream",
     "text": [
      "LCS calculé en 4.485242128372192 secondes.\n",
      "     k length                                               path\n",
      "0    2    999  AAAAAAAAAAAAAAAAAAAAAAAAAAAAAAAAAAAAAAAAAAAAAA...\n",
      "1    3    979  AAAAAAAAAAAAAAAAAAAAAAAAAAAAAAAAAAAAAAAAAAAAAA...\n",
      "2    4    971  AAAAAAAAAAAAAAAAAAAAAAAAAAAAAAAAAAAAAAAAAAAAAA...\n",
      "3    5    864  AAAAAAAAAAAAAAAAAAAAAAAAAAAAAAAAAAAAAAAAAAAAAA...\n",
      "4    6    858  AAAAAAAAAAAAAAAAAAAAAAAAAAAAAAAAAAAAAAAAAAAAAA...\n",
      "5    7    570  AAAAAAAAAAAAAAAAAAAAAAAAAAAAAAAAAAAAAAAAAAAAAA...\n",
      "6    8    460  AAAAAAAAAAAAAAAAAAAAAAAAAAAAAAAAAAAAAAAAAAAAAA...\n",
      "7    9    457  AAAAAAAAAAAAAAAAAAAAAAAAAAAAAAAAAAAAAAAAAAAAAA...\n",
      "8   10    449  AAAAAAAAAAAAAAAAAAAAAAAAAAAAAAAAAAAAAAAAAAAAAA...\n",
      "9   11    448  AAAAAAAAAAAAAAAAAAAAAAAAAAAAAAAAAAAAAAAAAAAAAA...\n",
      "10  12    427  AAAAAAAAAAAAAAAAAAAAAAAAAAAAAAAAAAAAAAAAAAAAAA...\n",
      "11  13    413  AAAAAAAAAAAAAAAAAAAAAAAAAAAAAAAAAAAAAAAAAAAAAA...\n",
      "12  14     30                     AAAAAAAAAAAAAAAAAAAAAAAAAAAAAA\n",
      "13  15     23                            AAAAAAAAAAAAAAAAAAAAAAA\n",
      "14  16     21                              AAAAAAAAAAAAAAAAAAAAA\n",
      "15  17     17                                  AAAAAAAAAAAAAAAAA\n",
      "16  18     11                                        AAAAAAAAAAA\n",
      "17  19     11                                        AAAAAAAAAAA\n",
      "18  20      5                                              AAAAA\n"
     ]
    }
   ],
   "source": [
    "# extraire 20 éléments du dataframe dna_mixed\n",
    "dna_mixed = dna_mixed.sample(n=20, random_state=1)\n",
    "lcs_mixed = compute_lcs.from_df(dna_mixed)\n",
    "print(lcs_mixed)"
   ]
  },
  {
   "cell_type": "code",
   "execution_count": 5,
   "metadata": {},
   "outputs": [
    {
     "name": "stdout",
     "output_type": "stream",
     "text": [
      "Max k in lcs: 20\n"
     ]
    }
   ],
   "source": [
    "# max k in the lcs dataframe\n",
    "max_k = lcs_mixed['k'].max()\n",
    "print(f\"Max k in lcs: {max_k}\")"
   ]
  },
  {
   "cell_type": "code",
   "execution_count": 26,
   "metadata": {},
   "outputs": [
    {
     "name": "stderr",
     "output_type": "stream",
     "text": [
      "100%|██████████| 36/36 [00:00<00:00, 1993.17it/s]"
     ]
    },
    {
     "name": "stdout",
     "output_type": "stream",
     "text": [
      "(36, 4)\n",
      "20\n"
     ]
    },
    {
     "name": "stderr",
     "output_type": "stream",
     "text": [
      "\n"
     ]
    }
   ],
   "source": [
    "\n",
    "kval = []\n",
    "# itérer sur chaque ligne du dataframe dna_mixed et afficher la valeur de la colonne DNA\n",
    "for index, row in tqdm(dna_mixed.iterrows(), total=dna_mixed.shape[0]):\n",
    "    userdna=row['DNA']\n",
    "    for index,row in lcs_mixed.iterrows():\n",
    "        lcs=str(row['path'])\n",
    "        lengthlcs = int(row['length'])\n",
    "        if lcs in str(userdna):\n",
    "            kval.append(row['length'])\n",
    "            #print(f\"Found (L:{lengthlcs}) {lcs} in {userdna}\")\n",
    "            break\n",
    "\n",
    "print(dna_mixed.shape)\n",
    "print(len(kval))\n",
    "\n",
    "#dna_mixed['kval'] = kval\n",
    "#print(dna_mixed)\n",
    "\n",
    "\n",
    "        \n"
   ]
  },
  {
   "cell_type": "code",
   "execution_count": 119,
   "metadata": {},
   "outputs": [
    {
     "name": "stdout",
     "output_type": "stream",
     "text": [
      "6.89606458123108\n",
      "183.234106962664\n",
      "2.0\n",
      "2.0\n"
     ]
    }
   ],
   "source": [
    "# afficher la moyenne de la colonne kval pour label BOT et pour HUMAN\n",
    "print(dna_mixed[dna_mixed['label'] == 'BOT']['kval'].mean())\n",
    "print(dna_mixed[dna_mixed['label'] == 'HUMAN']['kval'].mean())"
   ]
  },
  {
   "cell_type": "code",
   "execution_count": 120,
   "metadata": {},
   "outputs": [],
   "source": [
    "# split dna into train dataframe and test dataframe (50/50)\n",
    "X_train, X_test, y_train, y_test = train_test_split(dna_mixed.drop(columns=['label']), dna_mixed['label'], test_size=0.5, random_state=42)\n",
    "\n",
    "\n"
   ]
  },
  {
   "cell_type": "code",
   "execution_count": 138,
   "metadata": {},
   "outputs": [],
   "source": [
    "acc_list = []\n",
    "\n",
    "for k in range(2, max_k+1):\n",
    "    y_pred = X_test['kval'] < k\n",
    "    # change True into 'BOT' and False into 'HUMAN'\n",
    "    y_pred = y_pred.apply(lambda x: 'BOT' if x else 'HUMAN')\n",
    "    acc = accuracy_score(y_test, y_pred)\n",
    "    acc_list.append(acc)\n",
    "    \n",
    "\n"
   ]
  },
  {
   "cell_type": "code",
   "execution_count": 139,
   "metadata": {},
   "outputs": [
    {
     "name": "stdout",
     "output_type": "stream",
     "text": [
      "0.6427850655903128\n"
     ]
    }
   ],
   "source": [
    "print(max(acc_list))"
   ]
  },
  {
   "cell_type": "code",
   "execution_count": 76,
   "metadata": {},
   "outputs": [
    {
     "name": "stderr",
     "output_type": "stream",
     "text": [
      "  0%|          | 0/66 [00:00<?, ?it/s]"
     ]
    },
    {
     "name": "stdout",
     "output_type": "stream",
     "text": [
      "['AAAAAAAAAAAAAAAAAAAAAAAAAAAAAAAAAAAAAAAAAAAAAAAAAAAAAAAAAAAAAAAAAAAAAAAAAAAAAAAAAAAAAAAAAAAAAAAAAAAAAAAAAAAAAAAAAAAAAAAAAAAAAAAAAAAAAAAAAAAAAAAAAAAAAAAAAAAAAAAAAAAAAAAAAAAAAAAAAAAAAAAAAAAAAAAAAAAAAAAAAAAAAAAAAAAAAAAAAAAAAAAAAAAAAAAAAAAAAAAAAAAAAAAAAAAAAAAAAAAAAAAAAAAAAAAAAAAAAAAAAAAAAAAAAAAAAAAAAAAAAAAAAAAAAAAAAAAAAAAAAAAAAAAAAAAAAAAAAAAAAAAAAAAAAAAAAAAAAAAAAAAAAAAAAAAAAAAAAAAAAAAAAAAAAAAAAAAAAAAAAAAAAAAAAAAAAAAAAAAAAAAAAAAAAAAAAAAAAAAAAAAAAAAAAAAAAAAAAAAAAAAAAAAAAAAAAAAAAAAAAAAAAAAAAAAAAAAAAAAAAAAAAAAAAAAAAAAAAAAAAAAAAAAAAAAAAAAAAAAAAAAAAAAAAAAAAAAAAAAAAAAAAAAAAAAAAAAAAAAAAAAAAAAAAAAAAAAAAAAAAAAAAAAAAAAAAAAAAAAAAAAAAAAAAAAAAAAAAAAAAAAAAAAAAAAAAAAAAAAAAAAAAAAAAAAAAAAAAAAAAAAAAAAAAAAAAAAAAAAAAAAAAAAAAAAAAAAAAAAAAAAAAAAAAAAAAAAAAAAAAAAAAAAAAAAAAAAAAAAAAAAAAAAAAAAAAAAAAAAAAAAAAAAAAAAAAAAAAAAAAAAAAAAAAAAAAAAAAAAAAAAAAAAAAAAAAAAAAAAAAAAAAAAAAAAAAAAAAAAAAAAAAAAAAAAAAAAAAAAAAAAAAAAAAAAAAAAAAAAAAAAAAAAAAAAAAAAAAAAAAAAAAAAAAAAAAAAAAAAAAAAAAAAAAAAAAAAAAAAAAAAAAAAAAAAAAAAAAAAAAAAAAAAAAAAAAAAAAAA', 'AAAAAAAAAAAAAAAAAAAAAAAAAAAAAAAAAAAAAAAAAAAAAAAAAAAAAAAAAAAAAAAAAAAAAAAAAAAAAAAAAAAAAAAAAAAAAAAAAAAAAAAAAAAAAAAAAAAAAAAAAAAAAAAAAAAAAAAAAAAAAAAAAAAAAAAAAAAAAAAAAAAAAAAAAAAAAAAAAAAAAAAAAAAAAAAAAAAAAAAAAAAAAAAAAAAAAAAAAAAAAAAAAAAAAAAAAAAAAAAAAAAAAAAAAAAAAAAAAAAAAAAAAAAAAAAAAAAAAAAAAAAAAAAAAAAAAAAAAAAAAAAAAAAAAAAAAAAAAAAAAAAAAAAAAAAAAAAAAAAAAAAAAAAAAAAAAAAAAAAAAAAAAAAAAAAAAAAAAAAAAAAAAAAAAAAAAAAAAAAAAAAAAAAAAAAAAAAAAAAAAAAAAAAAAAAAAAAAAAAAAAAAAAAAAAAAAAAAAAAAAAAAAAAAAAAAAAAAAAAAAAAAAAAAAAAAAAAAAAAAAAAAAAAAAAAAAAAAAAAAAAAAAAAAAAAAAAAAAAAAAAAAAAAAAAAAAAAAAAAAAAAAAAAAAAAAAAAAAAAAAAAAAAAAAAAAAAAAAAAAAAAAAAAAAAAAAAAAAAAAAAAAAAAAAAAAAAAAAAAAAAAAAAAAAAAAAAAAAAAAAAAAAAAAAAAAAAAAAAAAAAAAAAAAAAAAAAAAAAAAAAAAAAAAAAAAAAAAAAAAAAAAAAAAAAAAAAAAAAAAAAAAAAAAAAAAAAAAAAAAAAAAAAAAAAAAAAAAAAAAAAAAAAAAAAAAAAAAAAAAAAAAAAAAAAAAAAAAAAAAAAAAAAAAAAAAAAAAAAAAAAAAAAAAAAAAAAAAAAAAAAAAAAAAAAAAAAAAAAAAAAAAAAAAAAAAAAAAAAAAAAAAAAAAAAAAAAAAAAAAAAAAAAAAAAAAAAAAAAAAAAAAAAAAAAAAAAAAAAAAAAAAAAAAAAAAAAAAAAAAAAAAAAAAAAAAAAAAAAA']\n"
     ]
    },
    {
     "name": "stderr",
     "output_type": "stream",
     "text": [
      "\n"
     ]
    },
    {
     "ename": "ValueError",
     "evalue": "max() arg is an empty sequence",
     "output_type": "error",
     "traceback": [
      "\u001b[0;31m---------------------------------------------------------------------------\u001b[0m",
      "\u001b[0;31mValueError\u001b[0m                                Traceback (most recent call last)",
      "Cell \u001b[0;32mIn[76], line 32\u001b[0m\n\u001b[1;32m     29\u001b[0m     lst_acc\u001b[38;5;241m.\u001b[39mappend(accuracy)\n\u001b[1;32m     31\u001b[0m \u001b[38;5;66;03m# trouver le k qui donne la meilleure accuracy\u001b[39;00m\n\u001b[0;32m---> 32\u001b[0m best_k \u001b[38;5;241m=\u001b[39m lst_acc\u001b[38;5;241m.\u001b[39mindex(\u001b[38;5;28;43mmax\u001b[39;49m\u001b[43m(\u001b[49m\u001b[43mlst_acc\u001b[49m\u001b[43m)\u001b[49m) \u001b[38;5;241m+\u001b[39m \u001b[38;5;241m2\u001b[39m\n",
      "\u001b[0;31mValueError\u001b[0m: max() arg is an empty sequence"
     ]
    }
   ],
   "source": [
    "# apprentissage en testant pour chaque valeur de k\n",
    "\n",
    "k = 400\n",
    "\n",
    "# créer un dataframe contenant tous les path du dataframe lcs de 2 à k\n",
    "\n",
    "\n",
    "# pour chaque utilisateur du training set, vérifier si au moins un des lcs de lcs_train est dans son adn (colonne DNA)\n",
    "# si oui, alors c'est un bot, sinon c'est un humain\n",
    "# stocker les prédictions dans y_pred\n",
    "\n",
    "lst_acc = []\n",
    "for k in tqdm(range(3, max_k+1,30)):\n",
    "    y_pred = []\n",
    "    lcs_train = lcs_mixed[lcs_mixed['k'] <= k]['path'].tolist()\n",
    "    print(lcs_train)\n",
    "    print(\"Taille de lcs_train : \", len(lcs_train))\n",
    "    for dna in X_train['DNA']:   \n",
    "        for lcs in lcs_train:\n",
    "            if lcs in dna:\n",
    "                y_pred.append(\"BOT\")\n",
    "            else:\n",
    "                y_pred.append(\"HUMAN\")\n",
    "            break\n",
    "    # compter le nb de HUMAN et de BOT dans y_pred. afficher, avec la valeur de k.tout sur une ligne\n",
    "    print(f\"K : {k} - HUMAN : {y_pred.count('HUMAN')} - BOT : {y_pred.count('BOT')}\")\n",
    "    accuracy = accuracy_score(y_trainlst, y_pred)\n",
    "    lst_acc.append(accuracy)\n",
    "\n",
    "# trouver le k qui donne la meilleure accuracy\n",
    "best_k = lst_acc.index(max(lst_acc)) + 2\n",
    "\n",
    "\n",
    "\n",
    "\n",
    "\n",
    "\n"
   ]
  },
  {
   "cell_type": "code",
   "execution_count": 72,
   "metadata": {},
   "outputs": [
    {
     "name": "stdout",
     "output_type": "stream",
     "text": [
      "[0.5368314833501514, 0.5368314833501514, 0.5368314833501514, 0.5368314833501514, 0.5368314833501514, 0.5368314833501514, 0.5368314833501514, 0.5368314833501514, 0.5368314833501514, 0.5368314833501514, 0.5368314833501514, 0.5368314833501514, 0.5368314833501514, 0.5368314833501514, 0.5368314833501514, 0.5368314833501514, 0.5368314833501514, 0.5368314833501514, 0.5368314833501514, 0.5368314833501514, 0.5368314833501514, 0.5368314833501514, 0.5368314833501514, 0.5368314833501514, 0.5368314833501514, 0.5368314833501514, 0.5368314833501514, 0.5368314833501514, 0.5368314833501514, 0.5368314833501514, 0.5368314833501514, 0.5368314833501514, 0.5368314833501514, 0.5368314833501514, 0.5368314833501514, 0.5368314833501514, 0.5368314833501514, 0.5368314833501514, 0.5368314833501514, 0.5368314833501514, 0.5368314833501514, 0.5368314833501514, 0.5368314833501514, 0.5368314833501514, 0.5368314833501514, 0.5368314833501514, 0.5368314833501514, 0.5368314833501514, 0.5368314833501514, 0.5368314833501514, 0.5368314833501514, 0.5368314833501514, 0.5368314833501514, 0.5368314833501514, 0.5368314833501514, 0.5368314833501514, 0.5368314833501514, 0.5368314833501514, 0.5368314833501514, 0.5368314833501514, 0.5368314833501514, 0.5368314833501514, 0.5368314833501514, 0.5368314833501514, 0.5368314833501514, 0.5368314833501514]\n"
     ]
    }
   ],
   "source": [
    "print(lst_acc)"
   ]
  },
  {
   "cell_type": "code",
   "execution_count": 58,
   "metadata": {},
   "outputs": [
    {
     "name": "stdout",
     "output_type": "stream",
     "text": [
      "Accuracy: 0.5368314833501514\n",
      "F1: 0.6796929518492673\n"
     ]
    }
   ],
   "source": [
    "y_trainlst = y_train.tolist()\n",
    "\n",
    "# calculer l'accuracy, le f1 et print\n",
    "accuracy = accuracy_score(y_trainlst, y_pred)\n",
    "f1 = f1_score(y_trainlst, y_pred, pos_label=\"HUMAN\")\n",
    "print(f\"Accuracy: {accuracy}\")\n",
    "print(f\"F1: {f1}\")"
   ]
  }
 ],
 "metadata": {
  "kernelspec": {
   "display_name": ".venv",
   "language": "python",
   "name": "python3"
  },
  "language_info": {
   "codemirror_mode": {
    "name": "ipython",
    "version": 3
   },
   "file_extension": ".py",
   "mimetype": "text/x-python",
   "name": "python",
   "nbconvert_exporter": "python",
   "pygments_lexer": "ipython3",
   "version": "3.11.2"
  }
 },
 "nbformat": 4,
 "nbformat_minor": 2
}
