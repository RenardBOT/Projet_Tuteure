{
 "cells": [
  {
   "cell_type": "code",
   "execution_count": 18,
   "metadata": {},
   "outputs": [],
   "source": [
    "from jproperties import Properties\n",
    "import pandas as pd\n",
    "import os\n",
    "config = Properties()\n",
    "with open('../../../config.properties', 'rb') as config_file:\n",
    "    config.load(config_file)\n"
   ]
  },
  {
   "cell_type": "code",
   "execution_count": 54,
   "metadata": {},
   "outputs": [],
   "source": [
    "path = \"/travail/ep298479/datasets_twitter/cresci-2015/TFP\""
   ]
  },
  {
   "cell_type": "code",
   "execution_count": 52,
   "metadata": {},
   "outputs": [],
   "source": [
    "userspath = os.path.join(path, \"users.csv\")\n",
    "tweetspath = os.path.join(path, \"tweets.csv\")\n",
    "\n",
    "dfusers = pd.read_csv(userspath, sep=',', header=0, index_col=False, encoding=\"ISO-8859-1\")\n",
    "dftweets = pd.read_csv(tweetspath, sep=',', header=0, index_col=False, encoding=\"ISO-8859-1\")\n"
   ]
  },
  {
   "cell_type": "code",
   "execution_count": 53,
   "metadata": {},
   "outputs": [
    {
     "name": "stdout",
     "output_type": "stream",
     "text": [
      "(1481, 34)\n",
      "(2068037, 19)\n",
      "1396.3787981093856\n"
     ]
    }
   ],
   "source": [
    "## affiche le nombre de lignes et de colonnes\n",
    "print(dfusers.shape)\n",
    "print(dftweets.shape)\n",
    "\n",
    "## Afficher la moyenne du nombre de tweets par utilisateur\n",
    "print(dftweets.groupby('user_id').size().mean())\n"
   ]
  }
 ],
 "metadata": {
  "kernelspec": {
   "display_name": ".venv",
   "language": "python",
   "name": "python3"
  },
  "language_info": {
   "codemirror_mode": {
    "name": "ipython",
    "version": 3
   },
   "file_extension": ".py",
   "mimetype": "text/x-python",
   "name": "python",
   "nbconvert_exporter": "python",
   "pygments_lexer": "ipython3",
   "version": "3.11.2"
  }
 },
 "nbformat": 4,
 "nbformat_minor": 2
}
