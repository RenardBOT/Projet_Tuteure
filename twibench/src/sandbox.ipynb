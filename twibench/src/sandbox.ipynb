{
 "cells": [
  {
   "cell_type": "code",
   "execution_count": 1,
   "metadata": {},
   "outputs": [],
   "source": [
    "import os\n",
    "import sys\n",
    "\n",
    "import pandas as pd\n",
    "import numpy as np"
   ]
  },
  {
   "cell_type": "code",
   "execution_count": 4,
   "metadata": {},
   "outputs": [],
   "source": [
    "datasets_path = '/travail/ep298479/datasets_twitter/polbots-2019'"
   ]
  },
  {
   "cell_type": "code",
   "execution_count": 9,
   "metadata": {},
   "outputs": [],
   "source": [
    "# read le tsv users.tsv\n",
    "users = pd.read_csv(os.path.join(datasets_path, 'users.tsv'), sep='\\t', header=None)\n",
    "\n",
    "# read le json tweets.json\n",
    "tweets = pd.read_json(os.path.join(datasets_path, 'tweets.json'))"
   ]
  },
  {
   "cell_type": "code",
   "execution_count": 11,
   "metadata": {},
   "outputs": [
    {
     "name": "stdout",
     "output_type": "stream",
     "text": [
      "           0    1\n",
      "0  625986322  bot\n",
      "1  626005201  bot\n",
      "2  628813356  bot\n",
      "3  631136471  bot\n",
      "4  637314961  bot\n",
      "                                                  0   \\\n",
      "0  {'created_at': 'Sat Jul 08 01:17:23 +0000 2017...   \n",
      "\n",
      "                                                  1   \\\n",
      "0  {'created_at': 'Wed Apr 18 16:07:19 +0000 2018...   \n",
      "\n",
      "                                                  2   \\\n",
      "0  {'created_at': 'Sat Apr 07 05:01:16 +0000 2018...   \n",
      "\n",
      "                                                  3   \\\n",
      "0  {'created_at': 'Thu Jan 25 20:02:58 +0000 2018...   \n",
      "\n",
      "                                                  4   \\\n",
      "0  {'created_at': 'Fri Dec 01 00:00:46 +0000 2017...   \n",
      "\n",
      "                                                  5   \\\n",
      "0  {'created_at': 'Tue Sep 19 23:32:23 +0000 2017...   \n",
      "\n",
      "                                                  6   \\\n",
      "0  {'created_at': 'Mon Sep 25 19:12:20 +0000 2017...   \n",
      "\n",
      "                                                  7   \\\n",
      "0  {'created_at': 'Fri Mar 23 15:06:21 +0000 2018...   \n",
      "\n",
      "                                                  8   \\\n",
      "0  {'created_at': 'Tue Nov 07 16:03:23 +0000 2017...   \n",
      "\n",
      "                                                  9   ...  \\\n",
      "0  {'created_at': 'Sat Jan 27 08:08:10 +0000 2018...  ...   \n",
      "\n",
      "                                                  52  \\\n",
      "0  {'created_at': 'Mon Apr 09 17:21:21 +0000 2018...   \n",
      "\n",
      "                                                  53  \\\n",
      "0  {'created_at': 'Wed Jul 12 03:18:49 +0000 2017...   \n",
      "\n",
      "                                                  54  \\\n",
      "0  {'created_at': 'Thu Mar 29 18:00:42 +0000 2018...   \n",
      "\n",
      "                                                  55  \\\n",
      "0  {'created_at': 'Sun Apr 15 15:09:15 +0000 2018...   \n",
      "\n",
      "                                                  56  \\\n",
      "0  {'created_at': 'Wed Feb 21 06:52:01 +0000 2018...   \n",
      "\n",
      "                                                  57  \\\n",
      "0  {'created_at': 'Fri Dec 08 19:20:39 +0000 2017...   \n",
      "\n",
      "                                                  58  \\\n",
      "0  {'created_at': 'Tue Jul 11 16:29:17 +0000 2017...   \n",
      "\n",
      "                                                  59  \\\n",
      "0  {'created_at': 'Fri Mar 09 16:12:39 +0000 2018...   \n",
      "\n",
      "                                                  60  \\\n",
      "0  {'created_at': 'Fri Oct 27 21:19:21 +0000 2017...   \n",
      "\n",
      "                                                  61  \n",
      "0  {'created_at': 'Wed Oct 25 15:22:08 +0000 2017...  \n",
      "\n",
      "[1 rows x 62 columns]\n"
     ]
    }
   ],
   "source": [
    "print(users.head())\n",
    "print(tweets.head())"
   ]
  }
 ],
 "metadata": {
  "kernelspec": {
   "display_name": ".venv",
   "language": "python",
   "name": "python3"
  },
  "language_info": {
   "codemirror_mode": {
    "name": "ipython",
    "version": 3
   },
   "file_extension": ".py",
   "mimetype": "text/x-python",
   "name": "python",
   "nbconvert_exporter": "python",
   "pygments_lexer": "ipython3",
   "version": "3.11.2"
  }
 },
 "nbformat": 4,
 "nbformat_minor": 2
}
